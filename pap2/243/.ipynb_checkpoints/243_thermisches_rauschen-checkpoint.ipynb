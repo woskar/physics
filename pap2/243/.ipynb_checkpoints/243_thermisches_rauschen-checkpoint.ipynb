{
 "cells": [
  {
   "cell_type": "markdown",
   "metadata": {},
   "source": [
    "# PAP2: Versuch 243 Thermisches Rauschen"
   ]
  },
  {
   "cell_type": "markdown",
   "metadata": {},
   "source": [
    "In diesem Jupyter-Notebook wird die Versuchsauswertung stattfinden."
   ]
  },
  {
   "cell_type": "markdown",
   "metadata": {},
   "source": [
    "### A1: Auswertung des Frequenzganges"
   ]
  },
  {
   "cell_type": "code",
   "execution_count": 8,
   "metadata": {
    "collapsed": false
   },
   "outputs": [
    {
     "data": {
      "text/plain": [
       "<matplotlib.text.Text at 0x1113ccc90>"
      ]
     },
     "execution_count": 8,
     "metadata": {},
     "output_type": "execute_result"
    },
    {
     "data": {
      "image/png": "[encoded data removed]",
      "text/plain": [
       "<matplotlib.figure.Figure at 0x10fe01050>"
      ]
     },
     "metadata": {},
     "output_type": "display_data"
    }
   ],
   "source": [
    "%matplotlib inline\n",
    "import matplotlib.pyplot as plt\n",
    "import numpy as np\n",
    "\n",
    "f, U_aus = np.loadtxt('frequenzgang.txt', skiprows=1, usecols=(0,1), unpack=True)\n",
    "D=1e-3\n",
    "U_ein=0.2\n",
    "g=U_aus/(U_ein * D)\n",
    "\n",
    "#g über f in ein doppellogarithmisches Diagramm eintragen:\n",
    "\n",
    "plt.loglog(f[2:-2],g[2:-2], linestyle='None', marker='.')\n",
    "plt.axis([4E2, 1.5e5, 10, 1.5E3])\n",
    "plt.xlabel('Frequenz / Hz')\n",
    "plt.ylabel('g(f)')\n",
    "plt.title('Frequenzgang')"
   ]
  },
  {
   "cell_type": "markdown",
   "metadata": {},
   "source": [
    "### A2: Funktion anpassen"
   ]
  },
  {
   "cell_type": "markdown",
   "metadata": {},
   "source": [
    "Startwerte für die Fitparameter: \n",
    "- Verstärkung V: 1000\n",
    "- untere Grenzfrequenz W1: 1000\n",
    "- obere Grenzfrequenz W2: 50000\n",
    "- Filterordnung n1, n2: 5"
   ]
  },
  {
   "cell_type": "code",
   "execution_count": 10,
   "metadata": {
    "collapsed": false
   },
   "outputs": [
    {
     "data": {
      "text/plain": [
       "<matplotlib.legend.Legend at 0x1126eda90>"
      ]
     },
     "execution_count": 10,
     "metadata": {},
     "output_type": "execute_result"
    },
    {
     "data": {
      "image/png": "[encoded data removed]",
      "text/plain": [
       "<matplotlib.figure.Figure at 0x11289e610>"
      ]
     },
     "metadata": {},
     "output_type": "display_data"
    }
   ],
   "source": [
    "from scipy.optimize import curve_fit\n",
    "\n",
    "def fit_func(f, V, W1, W2, n1, n2):\n",
    "    return V/(np.sqrt(1+1/(f/W1)**(2*n1))*np.sqrt(1+(f/W2)**(2*n2)))\n",
    "\n",
    "p0 = [1000, 1000, 50000, 5, 5]\n",
    "popt, pcov = curve_fit(fit_func, f[2:-2], g[2:-2], p0)\n",
    "plt.loglog(f[2:-2],g[2:-2], linestyle='None', marker='.', label='Messdaten')\n",
    "plt.loglog(f, fit_func(f, *popt), label='Fit')\n",
    "plt.axis([4E2, 1.5e5, 10, 1.5E3])\n",
    "plt.xlabel('Frequenz / Hz')\n",
    "plt.ylabel('g(f)')\n",
    "plt.title('Frequenzgang')\n",
    "plt.legend(loc='best')"
   ]
  },
  {
   "cell_type": "markdown",
   "metadata": {},
   "source": [
    "### A3: Numerische Integration"
   ]
  },
  {
   "cell_type": "code",
   "execution_count": 11,
   "metadata": {
    "collapsed": false
   },
   "outputs": [
    {
     "name": "stdout",
     "output_type": "stream",
     "text": [
      "Das Integral begtraegt: 5.4581e+10\n"
     ]
    }
   ],
   "source": [
    "import scipy.integrate as integrate\n",
    "\n",
    "def fit_func_square(f, V, W1, W2, n1, n2):\n",
    "    return fit_func(f, V, W1, W2, n1, n2)**2\n",
    "\n",
    "B=integrate.quad(fit_func_square, f[2], f[-2], args=tuple(popt))\n",
    "print('Das Integral begtraegt: {value:.4e}'.format(value=B[0]))"
   ]
  },
  {
   "cell_type": "markdown",
   "metadata": {},
   "source": [
    "### A4: Bestimmung der Boltzmannkonstante\n",
    "\n",
    "diesen Abschnitt noch bearbeiten, hier stecken Fehler drin, U_V und Fehlerformel "
   ]
  },
  {
   "cell_type": "code",
   "execution_count": 12,
   "metadata": {
    "collapsed": false
   },
   "outputs": [
    {
     "ename": "TypeError",
     "evalue": "unsupported operand type(s) for ** or pow(): 'tuple' and 'int'",
     "output_type": "error",
     "traceback": [
      "\u001b[0;31m---------------------------------------------------------------------------\u001b[0m",
      "\u001b[0;31mTypeError\u001b[0m                                 Traceback (most recent call last)",
      "\u001b[0;32m<ipython-input-12-fa60c51d3e3b>\u001b[0m in \u001b[0;36m<module>\u001b[0;34m()\u001b[0m\n\u001b[1;32m      3\u001b[0m \u001b[0mfehler_U_aus\u001b[0m\u001b[0;34m=\u001b[0m\u001b[0mnp\u001b[0m\u001b[0;34m.\u001b[0m\u001b[0marray\u001b[0m\u001b[0;34m(\u001b[0m\u001b[0;34m[\u001b[0m\u001b[0;36m0.00825\u001b[0m\u001b[0;34m,\u001b[0m \u001b[0;36m0.0111\u001b[0m\u001b[0;34m,\u001b[0m \u001b[0;36m0.0133\u001b[0m\u001b[0;34m,\u001b[0m \u001b[0;36m0.0166\u001b[0m\u001b[0;34m,\u001b[0m \u001b[0;36m0.0162\u001b[0m\u001b[0;34m,\u001b[0m \u001b[0;36m0.0187\u001b[0m\u001b[0;34m]\u001b[0m\u001b[0;34m)\u001b[0m \u001b[0;31m#Standardabweichung in mV\u001b[0m\u001b[0;34m\u001b[0m\u001b[0m\n\u001b[1;32m      4\u001b[0m \u001b[0mU_V\u001b[0m\u001b[0;34m=\u001b[0m\u001b[0;36m1\u001b[0m\u001b[0;34m,\u001b[0m\u001b[0;36m3803\u001b[0m \u001b[0;31m#Rauschspannung bei 0 Ohm ???\u001b[0m\u001b[0;34m\u001b[0m\u001b[0m\n\u001b[0;32m----> 5\u001b[0;31m \u001b[0mD\u001b[0m\u001b[0;34m=\u001b[0m\u001b[0mU_aus\u001b[0m\u001b[0;34m**\u001b[0m\u001b[0;36m2\u001b[0m\u001b[0;34m-\u001b[0m\u001b[0mU_V\u001b[0m\u001b[0;34m**\u001b[0m\u001b[0;36m2\u001b[0m\u001b[0;34m\u001b[0m\u001b[0m\n\u001b[0m\u001b[1;32m      6\u001b[0m \u001b[0mfehler_D\u001b[0m\u001b[0;34m=\u001b[0m\u001b[0mnp\u001b[0m\u001b[0;34m.\u001b[0m\u001b[0msqrt\u001b[0m\u001b[0;34m(\u001b[0m\u001b[0;34m(\u001b[0m\u001b[0;36m0.003\u001b[0m\u001b[0;34m*\u001b[0m\u001b[0mU_aus\u001b[0m\u001b[0;34m)\u001b[0m\u001b[0;34m**\u001b[0m\u001b[0;36m2\u001b[0m\u001b[0;34m+\u001b[0m\u001b[0;34m(\u001b[0m\u001b[0;36m0.003\u001b[0m\u001b[0;34m*\u001b[0m\u001b[0mU_V\u001b[0m\u001b[0;34m)\u001b[0m\u001b[0;34m**\u001b[0m\u001b[0;36m2\u001b[0m\u001b[0;34m)\u001b[0m\u001b[0;34m\u001b[0m\u001b[0m\n\u001b[1;32m      7\u001b[0m \u001b[0;34m\u001b[0m\u001b[0m\n",
      "\u001b[0;31mTypeError\u001b[0m: unsupported operand type(s) for ** or pow(): 'tuple' and 'int'"
     ]
    }
   ],
   "source": [
    "R=np.array([5e3, 10e3, 15e3, 20e3, 25e3, 30e3]) #Widerstände\n",
    "U_aus=np.array([2.4093, 3.1198, 3.6971, 4.2011, 4.6534, 5.0728 ]) #Rauschspannung (Mittelwerte in mV)\n",
    "fehler_U_aus=np.array([0.00825, 0.0111, 0.0133, 0.0166, 0.0162, 0.0187]) #Standardabweichung in mV\n",
    "U_V=1,3803 #Rauschspannung bei 0 Ohm ???\n",
    "D=U_aus**2-U_V**2\n",
    "fehler_D=np.sqrt((0.003*U_aus)**2+(0.003*U_V)**2)\n",
    "    \n",
    "plt.errorbar(R, D, yerr=fehler_D, fmt='.')\n",
    "plt.axis([0, 3.2e4, 0, 25])"
   ]
  },
  {
   "cell_type": "code",
   "execution_count": 13,
   "metadata": {
    "collapsed": false
   },
   "outputs": [
    {
     "ename": "SyntaxError",
     "evalue": "invalid syntax (<ipython-input-13-c10f1f44960b>, line 14)",
     "output_type": "error",
     "traceback": [
      "\u001b[0;36m  File \u001b[0;32m\"<ipython-input-13-c10f1f44960b>\"\u001b[0;36m, line \u001b[0;32m14\u001b[0m\n\u001b[0;31m    print('Wahrscheinlichkeit = 'str(prob)+'%')\u001b[0m\n\u001b[0m                                   ^\u001b[0m\n\u001b[0;31mSyntaxError\u001b[0m\u001b[0;31m:\u001b[0m invalid syntax\n"
     ]
    }
   ],
   "source": [
    "#Fitten einer Gerade an die Daten: \n",
    "def linear(x, c): \n",
    "    return c*x\n",
    "\n",
    "chisquare=np.sum(((linear(R, *popt)-D)**2/fehler_D**2))\n",
    "dof=5 #degrees of freedom, Freiheitsgrade\n",
    "chisquare_red=chisquare/dof\n",
    "print(chisquare)\n",
    "print(chisquare_red)\n",
    "\n",
    "#Fitwahrscheinlichkeit berechnen: \n",
    "from scipy.stats import chi2\n",
    "prob=round(1-chi2.cdf(chisquare, dof), 2)*100\n",
    "print('Wahrscheinlichkeit = 'str(prob)+'%')"
   ]
  },
  {
   "cell_type": "code",
   "execution_count": null,
   "metadata": {
    "collapsed": true
   },
   "outputs": [],
   "source": []
  }
 ],
 "metadata": {
  "anaconda-cloud": {},
  "kernelspec": {
   "display_name": "Python [Root]",
   "language": "python",
   "name": "Python [Root]"
  },
  "language_info": {
   "codemirror_mode": {
    "name": "ipython",
    "version": 2
   },
   "file_extension": ".py",
   "mimetype": "text/x-python",
   "name": "python",
   "nbconvert_exporter": "python",
   "pygments_lexer": "ipython2",
   "version": "2.7.12"
  }
 },
 "nbformat": 4,
 "nbformat_minor": 0
}
