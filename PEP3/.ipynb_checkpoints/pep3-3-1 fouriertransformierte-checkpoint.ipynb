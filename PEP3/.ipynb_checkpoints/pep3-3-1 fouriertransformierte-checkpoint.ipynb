{
 "cells": [
  {
   "cell_type": "code",
   "execution_count": 2,
   "metadata": {
    "collapsed": false
   },
   "outputs": [
    {
     "data": {
      "text/plain": [
       "<matplotlib.text.Text at 0x11274f210>"
      ]
     },
     "execution_count": 2,
     "metadata": {},
     "output_type": "execute_result"
    },
    {
     "data": {
      "image/png": "[encoded data removed]",
      "text/plain": [
       "<matplotlib.figure.Figure at 0x10f55ca10>"
      ]
     },
     "metadata": {},
     "output_type": "display_data"
    }
   ],
   "source": [
    "\"\"\"\n",
    "# Zeige Plots direkt im Jupyter Notebook an\n",
    "%matplotlib inline\n",
    "# Anschließend können wir das Modul importieren\n",
    "import matplotlib.pyplot as plt # Die Abkürzung `plt` ist Konvention\n",
    "# Numpy brauchen wir immer.\n",
    "import numpy as np\n",
    "x = np.linspace(0, 2 * np.pi, 100)\n",
    "# Plot mit Label für Legende\n",
    "plt.plot(x, np.sin(x), label=r'$A \\times \\sin(\\phi)$')\n",
    "plt.plot(x, np.cos(x), label=r'$A \\times \\cos(\\phi)$')\n",
    "# Titel\n",
    "plt.title('Oszillation')\n",
    "# Achsenlimits\n",
    "plt.xlim(0, 2 * np.pi)\n",
    "plt.ylim(-1, 1)\n",
    "# Achsenbeschriftungen\n",
    "plt.xlabel(r'Winkel $\\phi \\, [\\mathrm{rad}]$')\n",
    "plt.ylabel(r'Auslenkung $d \\, [\\mathrm{cm}]$')\n",
    "# Legende\n",
    "plt.legend(loc='lower left')\n",
    "\"\"\"\n",
    "\n",
    "%matplotlib inline\n",
    "import matplotlib.pyplot as plt\n",
    "import numpy as np\n",
    "\n",
    "q = lambda x, Q, y, w: ((2*Q)/(((np.pi*2)**0.5)*(w-x)**2))*(y+1j*(w-x))\n",
    "x = np.linspace(0, 70, 200)\n",
    "plt.plot(x, q(x, 1, 3, 31.4))\n",
    "\n",
    "#         (((2*1**2)/(2*np.pi))*(1/(3.0**2+(x-31.4)**2)) )   )\n",
    "#plt.plot()\n",
    "plt.title('PEP3 Blatt3 Aufgabe1: Fouriertransformierte')\n",
    "#plt.xlabel('$\\omega$')\n",
    "#plt.ylabel('$\\q(\\omega)$')"
   ]
  },
  {
   "cell_type": "code",
   "execution_count": null,
   "metadata": {
    "collapsed": true
   },
   "outputs": [],
   "source": []
  }
 ],
 "metadata": {
  "anaconda-cloud": {},
  "kernelspec": {
   "display_name": "Python [Root]",
   "language": "python",
   "name": "Python [Root]"
  },
  "language_info": {
   "codemirror_mode": {
    "name": "ipython",
    "version": 2
   },
   "file_extension": ".py",
   "mimetype": "text/x-python",
   "name": "python",
   "nbconvert_exporter": "python",
   "pygments_lexer": "ipython2",
   "version": "2.7.12"
  }
 },
 "nbformat": 4,
 "nbformat_minor": 0
}
